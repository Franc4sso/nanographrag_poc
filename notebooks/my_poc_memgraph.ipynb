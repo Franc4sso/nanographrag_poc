{
 "cells": [
  {
   "cell_type": "code",
   "execution_count": null,
   "id": "ae4d9285",
   "metadata": {},
   "outputs": [
    {
     "name": "stderr",
     "output_type": "stream",
     "text": [
      "INFO:nano-graphrag:Loading tokenizer: type='tiktoken', name='gpt-3.5'\n",
      "INFO:nano-graphrag:Load KV full_docs with 1 data\n",
      "INFO:nano-graphrag:Load KV text_chunks with 1 data\n",
      "INFO:nano-graphrag:Load KV llm_response_cache with 6 data\n",
      "INFO:nano-graphrag:Load KV community_reports with 0 data\n",
      "INFO:nano-graphrag:Loaded graph from ./nano_cache/graph_chunk_entity_relation.graphml with 53 nodes, 29 edges\n",
      "INFO:nano-vectordb:Load (52, 1536) data\n",
      "INFO:nano-vectordb:Init {'embedding_dim': 1536, 'metric': 'cosine', 'storage_file': './nano_cache/vdb_entities.json'} 52 data\n",
      "INFO:nano-graphrag:[New Docs] inserting 1 docs\n",
      "INFO:nano-graphrag:[New Chunks] inserting 1 chunks\n",
      "INFO:nano-graphrag:[Entity Extraction]...\n"
     ]
    },
    {
     "name": "stdout",
     "output_type": "stream",
     "text": [
      "⠙ Processed 1(100%) chunks,  44 entities(duplicated), 17 relations(duplicated)\r"
     ]
    },
    {
     "name": "stderr",
     "output_type": "stream",
     "text": [
      "INFO:nano-graphrag:Inserting 44 vectors to entities\n"
     ]
    },
    {
     "name": "stdout",
     "output_type": "stream",
     "text": [
      "\n"
     ]
    },
    {
     "name": "stderr",
     "output_type": "stream",
     "text": [
      "INFO:httpx:HTTP Request: POST https://api.openai.com/v1/embeddings \"HTTP/1.1 200 OK\"\n",
      "INFO:httpx:HTTP Request: POST https://api.openai.com/v1/embeddings \"HTTP/1.1 200 OK\"\n",
      "INFO:nano-graphrag:[Community Report]...\n",
      "INFO:matplotlib.font_manager:generated new fontManager\n",
      "INFO:nano-graphrag:Each level has communities: {0: 2}\n",
      "INFO:nano-graphrag:Generating by levels: [0]\n",
      "INFO:httpx:HTTP Request: POST https://api.openai.com/v1/chat/completions \"HTTP/1.1 200 OK\"\n",
      "INFO:nano-graphrag:JSON data successfully extracted.\n"
     ]
    },
    {
     "name": "stdout",
     "output_type": "stream",
     "text": [
      "⠙ Processed 1 communities\r"
     ]
    },
    {
     "name": "stderr",
     "output_type": "stream",
     "text": [
      "INFO:httpx:HTTP Request: POST https://api.openai.com/v1/chat/completions \"HTTP/1.1 200 OK\"\n",
      "INFO:nano-graphrag:JSON data successfully extracted.\n"
     ]
    },
    {
     "name": "stdout",
     "output_type": "stream",
     "text": [
      "⠹ Processed 2 communities\r"
     ]
    },
    {
     "name": "stderr",
     "output_type": "stream",
     "text": [
      "INFO:nano-graphrag:Writing graph with 53 nodes, 29 edges\n"
     ]
    },
    {
     "name": "stdout",
     "output_type": "stream",
     "text": [
      "\n",
      "\n",
      "📌 Triplette estratte:\n",
      "\"LA FRANCIA\" --[\"La Francia and Il Regno Unito formed an alliance during World War II to combat shared enemies.\"]--> \"IL REGNO UNITO\"\n",
      "\"LA FRANCIA\" --[\"La Francia and Gli Stati Uniti were allies during World War II.\"]--> \"GLI STATI UNITI\"\n",
      "\"LA FRANCIA\" --[\"La Francia was part of Le forze alleate working together against the Axis powers.\"]--> \"LE FORZE ALLEATE\"\n",
      "\"IL REGNO UNITO\" --[\"Il Regno Unito and Gli Stati Uniti were allies, collaborating during World War II.\"]--> \"GLI STATI UNITI\"\n",
      "\"IL REGNO UNITO\" --[\"Il Regno Unito was part of Le forze alleate, collaborating with other Allied countries during World War II.\"]--> \"LE FORZE ALLEATE\"\n",
      "\"LA SECONDA GUERRA MONDIALE\" --[\"La Germania was a major opposing force to the Allies during World War II.\"]--> \"LA GERMANIA\"\n",
      "\"LA SECONDA GUERRA MONDIALE\" --[\"L'Unione Sovietica played a key role in the Allies' victory over Nazi Germany in World War II.\"]--> \"L'UNIONE SOVIETICA\"\n",
      "\"GLI STATI UNITI\" --[\"Gli Stati Uniti were members of Le forze alleate, contributing to the collective efforts in World War II.\"]--> \"LE FORZE ALLEATE\"\n",
      "\"LA GERMANIA\" --[\"L'Unione Sovietica combated against Nazi Germany as part of the Allied forces.\"]--> \"L'UNIONE SOVIETICA\"\n",
      "\"LA GERMANIA\" --[\"Le forze alleate opposed La Germania during World War II, combating its military aggression across Europe.\"]--> \"LE FORZE ALLEATE\"\n",
      "\"L'UNIONE SOVIETICA\" --[\"L'Unione Sovietica joined Le forze alleate to fight against Nazi Germany and its allies during World War II.\"]--> \"LE FORZE ALLEATE\"\n",
      "\"LE FORZE ALLEATE\" --[\"Le forze alleate fought against the military forces of La Germania nazista during World War II.\"]--> \"LA GERMANIA NAZISTA\"\n",
      "\"GERMANIA NAZISTA\" --[\"Germania nazista e Italia fascista formarono l'Asse Roma-Berlino nel 1936 aumentando la loro collaborazione militare e politica.\"]--> \"ITALIA FASCISTA\"\n",
      "\"GERMANIA NAZISTA\" --[\"Giappone imperiale si unì alla Germania nazista nell'Asse tramite il Patto Tripartito nel 1940 per coordinare le operazioni militari.\"]--> \"GIAPPONE IMPERIALE\"\n",
      "\"GERMANIA NAZISTA\" --[\"La Germania nazista inizialmente firmò un patto di non aggressione con l'Unione Sovietica, ma lo violò con l'invasione del 1941.\"]--> \"UNIONE SOVIETICA\"\n",
      "\"GERMANIA NAZISTA\" --[\"Romania si schierò con la Germania nazista come parte delle forze dell'Asse, compiendo operazioni militari congiunte.\"]--> \"ROMANIA\"\n",
      "\"REGNO UNITO\" --[\"Regno Unito e Stati Uniti collaborarono strettamente come membri principali degli Alleati durante la guerra.\"]--> \"STATI UNITI\"\n",
      "\"REGNO UNITO\" --[\"Regno Unito e Francia dichiararono guerra alla Germania nel 1939 e collaborarono contro l'Asse come Alleati.\"]--> \"FRANCIA\"\n",
      "\"REGNO UNITO\" --[\"Canada, come parte del Commonwealth, cooperò strettamente con il Regno Unito nelle operazioni degli Alleati.\"]--> \"CANADA\"\n",
      "\"REGNO UNITO\" --[\"Australia, essendo parte del Commonwealth britannico, supportò il Regno Unito e gli Alleati nella guerra.\"]--> \"AUSTRALIA\"\n",
      "\"REGNO UNITO\" --[\"Nuova Zelanda, come membro del Commonwealth, collaborò con il Regno Unito come parte degli Alleati.\"]--> \"NUOVA ZELANDA\"\n",
      "\"REGNO UNITO\" --[\"India britannica, sotto il dominio del Regno Unito, fornì supporto significativo agli sforzi degli Alleati.\"]--> \"INDIA BRITANNICA\"\n",
      "\"WINSTON CHURCHILL\" --[\"Joseph Stalin e Winston Churchill furono centrali nel coordinamento degli Alleati, principalmente incontrandosi alle conferenze di Teheran e Yalta.\"]--> \"JOSEPH STALIN\"\n",
      "\"STATI UNITI\" --[\"Brasile collaborò con gli Stati Uniti come parte delle forze alleate durante la guerra.\"]--> \"BRASILE\"\n",
      "\"STATI UNITI\" --[\"Molti paesi dell'America Latina collaborarono con gli Stati Uniti nel sostegno degli sforzi alleati durante la Seconda Guerra Mondiale.\"]--> \"PAESI DELL'AMERICA LATINA\"\n",
      "\"FRANKLIN D. ROOSEVELT\" --[\"Franklin D. Roosevelt partecipò alla Conferenza di Teheran del 1943 per discutere la strategia degli Alleati.\"]--> \"CONFERENZA DI TEHERAN\"\n",
      "\"CONFERENZA DI YALTA\" --[\"Potsdam seguì Yalta confermando decisioni cruciali per l'ordine post-bellico europeo e la resa del Giappone.\"]--> \"CONFERENZA DI POTSDAM\"\n",
      "\"RESA DELLA GERMANIA\" --[\"Le rese della Germania e del Giappone nel 1945 segnarono rispettivamente le conclusioni delle ostilità in Europa e nel Pacifico.\"]--> \"RESA DEL GIAPPONE\"\n",
      "\"PEARL HARBOR\" --[\"L'attacco giapponese a Pearl Harbor provocò l'entrata degli Stati Uniti nella Seconda Guerra Mondiale.\"]--> \"JAPAN\"\n"
     ]
    }
   ],
   "source": [
    "import os\n",
    "import asyncio\n",
    "from nano_graphrag import GraphRAG\n",
    "import networkx as nx\n",
    "\n",
    "# ✅ STEP 1 – Carica il testo da un file\n",
    "with open(\"../data/alleanze.txt\", \"r\", encoding=\"utf-8\") as f:\n",
    "    text = f.read()\n",
    "\n",
    "# ✅ STEP 2 – Imposta la tua chiave API OpenAI\n",
    "os.environ[\"OPENAI_API_KEY\"] =\"YOUR_API_KEY\"  # Sostituisci con la tua chiave reale\n",
    "\n",
    "# ✅ STEP 3 – Inizializza GraphRAG\n",
    "graphrag = GraphRAG(\n",
    "    working_dir=\"./nano_cache\",\n",
    "    enable_local=True,\n",
    "    tokenizer_type=\"tiktoken\",\n",
    "    tiktoken_model_name=\"gpt-3.5\",  # usa gpt-4o solo se abilitato nel tuo account\n",
    "    # graph_cluster_algorithm=None  # evitiamo errore sul clustering\n",
    ")\n",
    "\n",
    "# ✅ STEP 4 – Inserisci il documento (solo in ambienti Jupyter: usa `await`)\n",
    "await graphrag.ainsert(text)\n",
    "\n",
    "# ✅ STEP 5 – Carica il grafo salvato da file\n",
    "G = nx.read_graphml(\"./nano_cache/graph_chunk_entity_relation.graphml\")\n",
    "\n",
    "# ✅ STEP 6 – Stampa le triplette soggetto --[relazione]--> oggetto\n",
    "print(\"\\n📌 Triplette estratte:\")\n",
    "for u, v, data in G.edges(data=True):\n",
    "    relation = data.get(\"description\", \"(nessuna relazione)\")\n",
    "    print(f\"{u} --[{relation}]--> {v}\")\n",
    "\n"
   ]
  },
  {
   "cell_type": "code",
   "execution_count": 4,
   "id": "be1e73b8",
   "metadata": {},
   "outputs": [
    {
     "name": "stdout",
     "output_type": "stream",
     "text": [
      "✅ Triplette inserite in Memgraph.\n"
     ]
    }
   ],
   "source": [
    "from neo4j import GraphDatabase\n",
    "import networkx as nx\n",
    "\n",
    "# ✅ Carica grafo da GraphML generato da GraphRAG\n",
    "G = nx.read_graphml(\"./nano_cache/graph_chunk_entity_relation.graphml\")\n",
    "\n",
    "# ✅ Estrai le triplette (soggetto, relazione, oggetto)\n",
    "triples = []\n",
    "for u, v, data in G.edges(data=True):\n",
    "    subject = u.replace('\"', '')  # rimuove virgolette doppie\n",
    "    obj = v.replace('\"', '')\n",
    "    relation = data.get(\"description\", \"relazione_non_specificata\").replace('\"', '')\n",
    "    triples.append((subject, relation, obj))\n",
    "\n",
    "# ✅ Connessione a Memgraph\n",
    "driver = GraphDatabase.driver(\"bolt://localhost:7687\", auth=(\"\", \"\"))  # Memgraph non richiede autenticazione\n",
    "\n",
    "# ✅ Inserimento delle triplette in Memgraph\n",
    "with driver.session() as session:\n",
    "    for s, r, o in triples:\n",
    "        session.run(\"\"\"\n",
    "            MERGE (a:Entity {name: $s})\n",
    "            MERGE (b:Entity {name: $o})\n",
    "            MERGE (a)-[:RELATION {description: $r}]->(b)\n",
    "        \"\"\", s=s, o=o, r=r)\n",
    "\n",
    "driver.close()\n",
    "print(\"✅ Triplette inserite in Memgraph.\")"
   ]
  },
  {
   "cell_type": "code",
   "execution_count": 6,
   "id": "8591bccc",
   "metadata": {},
   "outputs": [
    {
     "name": "stdout",
     "output_type": "stream",
     "text": [
      "LA FRANCIA --[La Francia and Il Regno Unito formed an alliance during World War II to combat shared enemies.]--> IL REGNO UNITO\n",
      "LA FRANCIA --[La Francia and Gli Stati Uniti were allies during World War II.]--> GLI STATI UNITI\n",
      "IL REGNO UNITO --[Il Regno Unito and Gli Stati Uniti were allies, collaborating during World War II.]--> GLI STATI UNITI\n",
      "LA FRANCIA --[La Francia was part of Le forze alleate working together against the Axis powers.]--> LE FORZE ALLEATE\n",
      "IL REGNO UNITO --[Il Regno Unito was part of Le forze alleate, collaborating with other Allied countries during World War II.]--> LE FORZE ALLEATE\n",
      "GLI STATI UNITI --[Gli Stati Uniti were members of Le forze alleate, contributing to the collective efforts in World War II.]--> LE FORZE ALLEATE\n",
      "LA GERMANIA --[Le forze alleate opposed La Germania during World War II, combating its military aggression across Europe.]--> LE FORZE ALLEATE\n",
      "L'UNIONE SOVIETICA --[L'Unione Sovietica joined Le forze alleate to fight against Nazi Germany and its allies during World War II.]--> LE FORZE ALLEATE\n",
      "LA SECONDA GUERRA MONDIALE --[La Germania was a major opposing force to the Allies during World War II.]--> LA GERMANIA\n",
      "LA SECONDA GUERRA MONDIALE --[L'Unione Sovietica played a key role in the Allies' victory over Nazi Germany in World War II.]--> L'UNIONE SOVIETICA\n"
     ]
    }
   ],
   "source": [
    "from neo4j import GraphDatabase\n",
    "\n",
    "# ✅ Connessione a Memgraph\n",
    "driver = GraphDatabase.driver(\"bolt://localhost:7687\", auth=(\"\", \"\"))\n",
    "\n",
    "# ✅ Query per vedere i dati\n",
    "with driver.session() as session:\n",
    "    result = session.run(\"MATCH (a)-[r]->(b) RETURN a.name, r.description, b.name LIMIT 10\")\n",
    "    for record in result:\n",
    "        print(f\"{record['a.name']} --[{record['r.description']}]--> {record['b.name']}\")\n",
    "\n",
    "driver.close()"
   ]
  },
  {
   "cell_type": "code",
   "execution_count": null,
   "id": "62c348c4",
   "metadata": {},
   "outputs": [
    {
     "name": "stderr",
     "output_type": "stream",
     "text": [
      "INFO:httpx:HTTP Request: POST https://api.openai.com/v1/chat/completions \"HTTP/1.1 200 OK\"\n"
     ]
    },
    {
     "name": "stdout",
     "output_type": "stream",
     "text": [
      "Risposta LLM:\n",
      "La Francia ha stretto un'alleanza con Il Regno Unito e Gli Stati Uniti durante la Seconda Guerra Mondiale. Inoltre, la Francia faceva parte delle forze alleate che includevano molte nazioni unite contro le potenze dell'Asse.\n"
     ]
    }
   ],
   "source": [
    "from neo4j import GraphDatabase\n",
    "from openai import OpenAI\n",
    "import os\n",
    "from dotenv import load_dotenv\n",
    "\n",
    "load_dotenv()\n",
    "\n",
    "# ✅ Nuova API OpenAI\n",
    "client = OpenAI(api_key=os.getenv(\"YOUR_API_KEY\"))\n",
    "\n",
    "# ✅ Connessione a Memgraph\n",
    "driver = GraphDatabase.driver(\"bolt://localhost:7687\", auth=(\"\", \"\"))\n",
    "\n",
    "# ✅ Query per ottenere i dati\n",
    "with driver.session() as session:\n",
    "    result = session.run(\"\"\"\n",
    "        MATCH (a)-[r]->(b) \n",
    "        RETURN a.name, r.description, b.name\n",
    "    \"\"\")\n",
    "    \n",
    "    context = \"\\n\".join([f\"{record['a.name']} {record['r.description']} {record['b.name']}\" \n",
    "                        for record in result])\n",
    "\n",
    "driver.close()\n",
    "\n",
    "# ✅ Query con nuova API OpenAI\n",
    "response = client.chat.completions.create(\n",
    "    model=\"gpt-4\",\n",
    "    messages=[\n",
    "        {\"role\": \"system\", \"content\": \"Rispondi solo in base al contesto fornito.\"},\n",
    "        {\"role\": \"user\", \"content\": f\"Contesto:\\n{context}\\n\\nDomanda: Quali alleanze ha stretto la Francia?\"}\n",
    "    ]\n",
    ")\n",
    "\n",
    "print(\"Risposta LLM:\")\n",
    "print(response.choices[0].message.content)"
   ]
  }
 ],
 "metadata": {
  "kernelspec": {
   "display_name": ".venv",
   "language": "python",
   "name": "python3"
  },
  "language_info": {
   "codemirror_mode": {
    "name": "ipython",
    "version": 3
   },
   "file_extension": ".py",
   "mimetype": "text/x-python",
   "name": "python",
   "nbconvert_exporter": "python",
   "pygments_lexer": "ipython3",
   "version": "3.12.3"
  }
 },
 "nbformat": 4,
 "nbformat_minor": 5
}
